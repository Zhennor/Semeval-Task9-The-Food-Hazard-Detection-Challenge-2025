{
 "cells": [
  {
   "cell_type": "code",
   "execution_count": null,
   "metadata": {},
   "outputs": [],
   "source": [
    "import re\n",
    "from bs4 import BeautifulSoup\n",
    "import pandas as pd\n",
    "from googletrans import Translator\n",
    "from langdetect import detect\n",
    "import asyncio\n",
    "import nest_asyncio"
   ]
  },
  {
   "cell_type": "code",
   "execution_count": null,
   "metadata": {},
   "outputs": [],
   "source": [
    "\n",
    "def extract_text_from_html(html_content):\n",
    "    soup = BeautifulSoup(html_content, 'html.parser')\n",
    "    text = soup.get_text(separator='\\n')\n",
    "    return text.strip()\n",
    "\n",
    "def clean_text(text):\n",
    "    text = re.sub(r'[^\\w\\s.,!?;]', '', text)\n",
    "    text = re.sub(r'\\n', ' ', text)\n",
    "    text = re.sub(r'\\s+', ' ', text)\n",
    "    text = re.sub(r'([.,!?;])', r'\\1 ', text)\n",
    "    return text.strip()\n",
    "\n",
    "async def translate_to_english(text):\n",
    "    try:\n",
    "        # Detect language\n",
    "        if detect(text) != 'en':  # If not English\n",
    "            translated = await translator.translate(text, dest='en')\n",
    "            return translated.text\n",
    "        return text\n",
    "    except Exception as e:\n",
    "        print(f\"Error translating: {e}\")\n",
    "        return text\n",
    "\n",
    "async def process_dataframe(df):\n",
    "    # Translate 'text' column\n",
    "    df['text'] = await asyncio.gather(*(translate_to_english(text) for text in df['text']))\n",
    "\n",
    "    # Translate 'title' column\n",
    "    df['title'] = await asyncio.gather(*(translate_to_english(title) for title in df['title']))\n",
    "\n",
    "    return df"
   ]
  },
  {
   "cell_type": "code",
   "execution_count": null,
   "metadata": {},
   "outputs": [],
   "source": [
    "data = pd.read_csv('data.csv')\n",
    "\n",
    "data['text'] = data['text'].apply(extract_text_from_html)\n",
    "data['text'] = data['text'].apply(clean_text)"
   ]
  },
  {
   "cell_type": "code",
   "execution_count": null,
   "metadata": {},
   "outputs": [],
   "source": [
    "async def main():\n",
    "\n",
    "    data = await process_dataframe(data)\n",
    "\n",
    "    data.to_csv('final_data_cleaned.csv', index=False)\n",
    "    print(\"Translation complete and file saved.\")\n",
    "\n",
    "await main()"
   ]
  }
 ],
 "metadata": {
  "language_info": {
   "name": "python"
  }
 },
 "nbformat": 4,
 "nbformat_minor": 2
}
